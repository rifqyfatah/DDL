{
  "cells": [
    {
      "cell_type": "code",
      "source": [
        "/*Fakta Silsilah Keluarga*/\n",
        "orang_tua(david, liza).\n",
        "orang_tua(david, john).\n",
        "orang_tua(amy, liza).\n",
        "orang_tua(amy, john).\n",
        "orang_tua(jack, susan).\n",
        "orang_tua(jack, rey).\n",
        "orang_tua(karen, susan).\n",
        "orang_tua(karen, rey).\n",
        "orang_tua(john, peter).\n",
        "orang_tua(jhon, mary).\n",
        "orang_tua(susan, peter).\n",
        "orang_tua(susan, mary).\n",
        "\n",
        "laki_laki(david).\n",
        "laki_laki(jack).\n",
        "laki_laki(john).\n",
        "laki_laki(rey).\n",
        "laki_laki(peter).\n",
        "\n",
        "perempuan(amy).\n",
        "perempuan(karen).\n",
        "perempuan(liza).\n",
        "perempuan(susan).\n",
        "perempuan(mary).\n",
        "\n",
        "\n",
        "/*Aturan Silsilah Keluarga*/\n",
        "is_orang_tua(X, Y):- orang_tua(X, Y).\n",
        "saudara(X, Y) :- orang_tua(Z, X), orang_tua(Z, Y), X\\=Y.\n",
        "anak(Y, X) :- orang_tua(X, Y).\n",
        "kakek(X, Z) :- orang_tua(X, Y), orang_tua(Y, Z), laki_laki(X).\n",
        "nenek(X, Z) :- orang_tua(X, Y), orang_tua(Y, Z), perempuan(Y).\n",
        "\n",
        "\n",
        "\n",
        "\n",
        "\n",
        "\n",
        "\n",
        "\n",
        "\n",
        "\n"
      ],
      "metadata": {
        "id": "1kvpdURBsYsb",
        "outputId": "7cafecc7-ec86-4f5a-e3ec-2c2c4994dc8c",
        "colab": {
          "base_uri": "https://localhost:8080/",
          "height": 130
        }
      },
      "execution_count": 4,
      "outputs": [
        {
          "output_type": "error",
          "ename": "SyntaxError",
          "evalue": "ignored",
          "traceback": [
            "\u001b[0;36m  File \u001b[0;32m\"<ipython-input-4-fdf972227393>\"\u001b[0;36m, line \u001b[0;32m1\u001b[0m\n\u001b[0;31m    *Fakta(Silsilah, Keluarga*/)\u001b[0m\n\u001b[0m                              ^\u001b[0m\n\u001b[0;31mSyntaxError\u001b[0m\u001b[0;31m:\u001b[0m invalid syntax\n"
          ]
        }
      ]
    }
  ],
  "metadata": {
    "colab": {
      "name": "Selamat Datang di Colaboratory",
      "toc_visible": true,
      "provenance": []
    },
    "kernelspec": {
      "display_name": "Python 3",
      "name": "python3"
    }
  },
  "nbformat": 4,
  "nbformat_minor": 0
}